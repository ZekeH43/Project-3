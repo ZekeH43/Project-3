{
 "cells": [
  {
   "cell_type": "code",
   "execution_count": 1,
   "id": "b76ba39c-64a8-4563-a21d-367a8661c2c3",
   "metadata": {},
   "outputs": [],
   "source": [
    "import os\n",
    "import json\n",
    "from web3 import Web3\n",
    "from pathlib import Path\n",
    "from dotenv import load_dotenv\n",
    "import streamlit as st\n",
    "import pandas as pd"
   ]
  },
  {
   "cell_type": "code",
   "execution_count": 2,
   "id": "9b9f1e3c-def7-4440-9e59-1a853d9b1e83",
   "metadata": {},
   "outputs": [],
   "source": [
    "load_dotenv()\n",
    "\n",
    "# Define and connect a new Web3 provider\n",
    "w3 = Web3(Web3.HTTPProvider(os.getenv(\"WEB3_PROVIDER_URI\")))"
   ]
  },
  {
   "cell_type": "code",
   "execution_count": 7,
   "id": "2db04acd-3d20-42bc-954c-1f8f92afdfc2",
   "metadata": {},
   "outputs": [],
   "source": [
    "file_path = r\"./contracts/compiled/project_3.json\""
   ]
  },
  {
   "cell_type": "code",
   "execution_count": 8,
   "id": "78823556-d7c8-44d4-8ba1-88be4160341e",
   "metadata": {},
   "outputs": [],
   "source": [
    "def load_contract():\n",
    "    # Load Contract ABI\n",
    "    with open(file_path,\"rb\") as f:\n",
    "        project_abi = json.load(f)\n",
    "\n",
    "    contract_address = os.getenv(\"SMART_CONTRACT_ADDRESS\")\n",
    "    contract = w3.eth.contract(address=contract_address, abi=project_abi)\n",
    "    return contract\n",
    "\n",
    "contract = load_contract()"
   ]
  },
  {
   "cell_type": "code",
   "execution_count": 24,
   "id": "bb1d50d2-4c35-4988-a109-e8061a4c6c22",
   "metadata": {},
   "outputs": [],
   "source": [
    "employees = pd.read_csv('fake_employee.csv')"
   ]
  },
  {
   "cell_type": "code",
   "execution_count": 30,
   "id": "fa770412-a755-449b-99da-901d520aac20",
   "metadata": {},
   "outputs": [
    {
     "data": {
      "text/plain": [
       "Unnamed: 0        float64\n",
       "employee_id       float64\n",
       "name               object\n",
       "dates_of_birth     object\n",
       "phone_number       object\n",
       "Last_4_SSN        float64\n",
       "dtype: object"
      ]
     },
     "execution_count": 30,
     "metadata": {},
     "output_type": "execute_result"
    }
   ],
   "source": [
    "employees.dtypes"
   ]
  },
  {
   "cell_type": "code",
   "execution_count": 25,
   "id": "29065f87-326b-47e6-ad8c-86688ea6feed",
   "metadata": {},
   "outputs": [],
   "source": [
    "def register_voter(name, phone, ssn_last4, employee_id):\n",
    "    if verify_employee(name, phone, ssn_last4, employee_id):\n",
    "        # Create a transaction to register the voter\n",
    "        tx = contract.functions.registerVoter(name, phone, ssn_last4, employee_id).buildTransaction({\n",
    "            'from': w3.eth.accounts[0],\n",
    "            'nonce': w3.eth.getTransactionCount(w3.eth.accounts[0]),\n",
    "            'gas': 1000000 \n",
    "        })\n",
    "\n",
    "        # Sign the transaction using the private key\n",
    "        private_key = os.getenv(\"PRIVATE_KEY\")\n",
    "        signed_tx = w3.eth.account.signTransaction(tx, private_key)\n",
    "\n",
    "        # Send the transaction\n",
    "        tx_hash = w3.eth.sendRawTransaction(signed_tx.rawTransaction)\n",
    "\n",
    "        # Wait for the transaction receipt\n",
    "        tx_receipt = w3.eth.waitForTransactionReceipt(tx_hash)\n",
    "\n",
    "        # Assume the token ID is the total number of tokens issued so far\n",
    "        token_id = contract.functions.totalTokens().call() - 1\n",
    "\n",
    "        print (token_id)\n",
    "    else:\n",
    "        return \"Employee verification failed.\""
   ]
  },
  {
   "cell_type": "code",
   "execution_count": 26,
   "id": "a2eb4715-1b78-4f25-9cde-16db764e73dc",
   "metadata": {},
   "outputs": [],
   "source": [
    "def verify_employee(name, phone, ssn_last4, employee_id):\n",
    "    return any(\n",
    "        (employees['name'] == name) &\n",
    "        (employees['phone_number'] == phone) &\n",
    "        (employees['Last_4_SSN'] == ssn_last4) &\n",
    "        (employees['employee_id'] == employee_id)\n",
    "    )"
   ]
  },
  {
   "cell_type": "code",
   "execution_count": 31,
   "id": "df6d3c92-6fba-46e3-a359-ac0ec424a4cb",
   "metadata": {},
   "outputs": [
    {
     "ename": "BadFunctionCallOutput",
     "evalue": "Could not transact with/call contract function, is contract deployed correctly and chain synced?",
     "output_type": "error",
     "traceback": [
      "\u001b[1;31m---------------------------------------------------------------------------\u001b[0m",
      "\u001b[1;31mInsufficientDataBytes\u001b[0m                     Traceback (most recent call last)",
      "File \u001b[1;32m~\\Anaconda3\\envs\\dev\\lib\\site-packages\\web3\\contract.py:1507\u001b[0m, in \u001b[0;36mcall_contract_function\u001b[1;34m(web3, address, normalizers, function_identifier, transaction, block_id, contract_abi, fn_abi, *args, **kwargs)\u001b[0m\n\u001b[0;32m   1506\u001b[0m \u001b[38;5;28;01mtry\u001b[39;00m:\n\u001b[1;32m-> 1507\u001b[0m     output_data \u001b[38;5;241m=\u001b[39m \u001b[43mweb3\u001b[49m\u001b[38;5;241;43m.\u001b[39;49m\u001b[43mcodec\u001b[49m\u001b[38;5;241;43m.\u001b[39;49m\u001b[43mdecode_abi\u001b[49m\u001b[43m(\u001b[49m\u001b[43moutput_types\u001b[49m\u001b[43m,\u001b[49m\u001b[43m \u001b[49m\u001b[43mreturn_data\u001b[49m\u001b[43m)\u001b[49m\n\u001b[0;32m   1508\u001b[0m \u001b[38;5;28;01mexcept\u001b[39;00m DecodingError \u001b[38;5;28;01mas\u001b[39;00m e:\n\u001b[0;32m   1509\u001b[0m     \u001b[38;5;66;03m# Provide a more helpful error message than the one provided by\u001b[39;00m\n\u001b[0;32m   1510\u001b[0m     \u001b[38;5;66;03m# eth-abi-utils\u001b[39;00m\n",
      "File \u001b[1;32m~\\Anaconda3\\envs\\dev\\lib\\site-packages\\eth_abi\\codec.py:196\u001b[0m, in \u001b[0;36mABIDecoder.decode_abi\u001b[1;34m(self, types, data)\u001b[0m\n\u001b[0;32m    191\u001b[0m warnings\u001b[38;5;241m.\u001b[39mwarn(\n\u001b[0;32m    192\u001b[0m     \u001b[38;5;124m\"\u001b[39m\u001b[38;5;124mabi.decode_abi() is deprecated and will be removed in version 4.0.0 in favor of \u001b[39m\u001b[38;5;124m\"\u001b[39m\n\u001b[0;32m    193\u001b[0m     \u001b[38;5;124m\"\u001b[39m\u001b[38;5;124mabi.decode()\u001b[39m\u001b[38;5;124m\"\u001b[39m,\n\u001b[0;32m    194\u001b[0m     category\u001b[38;5;241m=\u001b[39m\u001b[38;5;167;01mDeprecationWarning\u001b[39;00m\n\u001b[0;32m    195\u001b[0m )\n\u001b[1;32m--> 196\u001b[0m \u001b[38;5;28;01mreturn\u001b[39;00m \u001b[38;5;28;43mself\u001b[39;49m\u001b[38;5;241;43m.\u001b[39;49m\u001b[43mdecode\u001b[49m\u001b[43m(\u001b[49m\u001b[43mtypes\u001b[49m\u001b[43m,\u001b[49m\u001b[43m \u001b[49m\u001b[43mdata\u001b[49m\u001b[43m)\u001b[49m\n",
      "File \u001b[1;32m~\\Anaconda3\\envs\\dev\\lib\\site-packages\\eth_abi\\codec.py:210\u001b[0m, in \u001b[0;36mABIDecoder.decode\u001b[1;34m(self, types, data)\u001b[0m\n\u001b[0;32m    208\u001b[0m stream \u001b[38;5;241m=\u001b[39m \u001b[38;5;28mself\u001b[39m\u001b[38;5;241m.\u001b[39mstream_class(data)\n\u001b[1;32m--> 210\u001b[0m \u001b[38;5;28;01mreturn\u001b[39;00m \u001b[43mdecoder\u001b[49m\u001b[43m(\u001b[49m\u001b[43mstream\u001b[49m\u001b[43m)\u001b[49m\n",
      "File \u001b[1;32m~\\Anaconda3\\envs\\dev\\lib\\site-packages\\eth_abi\\decoding.py:127\u001b[0m, in \u001b[0;36mBaseDecoder.__call__\u001b[1;34m(self, stream)\u001b[0m\n\u001b[0;32m    126\u001b[0m \u001b[38;5;28;01mdef\u001b[39;00m \u001b[38;5;21m__call__\u001b[39m(\u001b[38;5;28mself\u001b[39m, stream: ContextFramesBytesIO) \u001b[38;5;241m-\u001b[39m\u001b[38;5;241m>\u001b[39m Any:\n\u001b[1;32m--> 127\u001b[0m     \u001b[38;5;28;01mreturn\u001b[39;00m \u001b[38;5;28;43mself\u001b[39;49m\u001b[38;5;241;43m.\u001b[39;49m\u001b[43mdecode\u001b[49m\u001b[43m(\u001b[49m\u001b[43mstream\u001b[49m\u001b[43m)\u001b[49m\n",
      "File \u001b[1;32m~\\Anaconda3\\envs\\dev\\lib\\site-packages\\eth_utils\\functional.py:45\u001b[0m, in \u001b[0;36mapply_to_return_value.<locals>.outer.<locals>.inner\u001b[1;34m(*args, **kwargs)\u001b[0m\n\u001b[0;32m     43\u001b[0m \u001b[38;5;129m@functools\u001b[39m\u001b[38;5;241m.\u001b[39mwraps(fn)\n\u001b[0;32m     44\u001b[0m \u001b[38;5;28;01mdef\u001b[39;00m \u001b[38;5;21minner\u001b[39m(\u001b[38;5;241m*\u001b[39margs, \u001b[38;5;241m*\u001b[39m\u001b[38;5;241m*\u001b[39mkwargs) \u001b[38;5;241m-\u001b[39m\u001b[38;5;241m>\u001b[39m T:  \u001b[38;5;66;03m# type: ignore\u001b[39;00m\n\u001b[1;32m---> 45\u001b[0m     \u001b[38;5;28;01mreturn\u001b[39;00m \u001b[43mcallback\u001b[49m\u001b[43m(\u001b[49m\u001b[43mfn\u001b[49m\u001b[43m(\u001b[49m\u001b[38;5;241;43m*\u001b[39;49m\u001b[43margs\u001b[49m\u001b[43m,\u001b[49m\u001b[43m \u001b[49m\u001b[38;5;241;43m*\u001b[39;49m\u001b[38;5;241;43m*\u001b[39;49m\u001b[43mkwargs\u001b[49m\u001b[43m)\u001b[49m\u001b[43m)\u001b[49m\n",
      "File \u001b[1;32m~\\Anaconda3\\envs\\dev\\lib\\site-packages\\eth_abi\\decoding.py:173\u001b[0m, in \u001b[0;36mTupleDecoder.decode\u001b[1;34m(self, stream)\u001b[0m\n\u001b[0;32m    172\u001b[0m \u001b[38;5;28;01mfor\u001b[39;00m decoder \u001b[38;5;129;01min\u001b[39;00m \u001b[38;5;28mself\u001b[39m\u001b[38;5;241m.\u001b[39mdecoders:\n\u001b[1;32m--> 173\u001b[0m     \u001b[38;5;28;01myield\u001b[39;00m \u001b[43mdecoder\u001b[49m\u001b[43m(\u001b[49m\u001b[43mstream\u001b[49m\u001b[43m)\u001b[49m\n",
      "File \u001b[1;32m~\\Anaconda3\\envs\\dev\\lib\\site-packages\\eth_abi\\decoding.py:127\u001b[0m, in \u001b[0;36mBaseDecoder.__call__\u001b[1;34m(self, stream)\u001b[0m\n\u001b[0;32m    126\u001b[0m \u001b[38;5;28;01mdef\u001b[39;00m \u001b[38;5;21m__call__\u001b[39m(\u001b[38;5;28mself\u001b[39m, stream: ContextFramesBytesIO) \u001b[38;5;241m-\u001b[39m\u001b[38;5;241m>\u001b[39m Any:\n\u001b[1;32m--> 127\u001b[0m     \u001b[38;5;28;01mreturn\u001b[39;00m \u001b[38;5;28;43mself\u001b[39;49m\u001b[38;5;241;43m.\u001b[39;49m\u001b[43mdecode\u001b[49m\u001b[43m(\u001b[49m\u001b[43mstream\u001b[49m\u001b[43m)\u001b[49m\n",
      "File \u001b[1;32m~\\Anaconda3\\envs\\dev\\lib\\site-packages\\eth_abi\\decoding.py:198\u001b[0m, in \u001b[0;36mSingleDecoder.decode\u001b[1;34m(self, stream)\u001b[0m\n\u001b[0;32m    197\u001b[0m \u001b[38;5;28;01mdef\u001b[39;00m \u001b[38;5;21mdecode\u001b[39m(\u001b[38;5;28mself\u001b[39m, stream):\n\u001b[1;32m--> 198\u001b[0m     raw_data \u001b[38;5;241m=\u001b[39m \u001b[38;5;28;43mself\u001b[39;49m\u001b[38;5;241;43m.\u001b[39;49m\u001b[43mread_data_from_stream\u001b[49m\u001b[43m(\u001b[49m\u001b[43mstream\u001b[49m\u001b[43m)\u001b[49m\n\u001b[0;32m    199\u001b[0m     data, padding_bytes \u001b[38;5;241m=\u001b[39m \u001b[38;5;28mself\u001b[39m\u001b[38;5;241m.\u001b[39msplit_data_and_padding(raw_data)\n",
      "File \u001b[1;32m~\\Anaconda3\\envs\\dev\\lib\\site-packages\\eth_abi\\decoding.py:305\u001b[0m, in \u001b[0;36mFixedByteSizeDecoder.read_data_from_stream\u001b[1;34m(self, stream)\u001b[0m\n\u001b[0;32m    304\u001b[0m \u001b[38;5;28;01mif\u001b[39;00m \u001b[38;5;28mlen\u001b[39m(data) \u001b[38;5;241m!=\u001b[39m \u001b[38;5;28mself\u001b[39m\u001b[38;5;241m.\u001b[39mdata_byte_size:\n\u001b[1;32m--> 305\u001b[0m     \u001b[38;5;28;01mraise\u001b[39;00m InsufficientDataBytes(\n\u001b[0;32m    306\u001b[0m         \u001b[38;5;124m\"\u001b[39m\u001b[38;5;124mTried to read \u001b[39m\u001b[38;5;132;01m{0}\u001b[39;00m\u001b[38;5;124m bytes.  Only got \u001b[39m\u001b[38;5;132;01m{1}\u001b[39;00m\u001b[38;5;124m bytes\u001b[39m\u001b[38;5;124m\"\u001b[39m\u001b[38;5;241m.\u001b[39mformat(\n\u001b[0;32m    307\u001b[0m             \u001b[38;5;28mself\u001b[39m\u001b[38;5;241m.\u001b[39mdata_byte_size,\n\u001b[0;32m    308\u001b[0m             \u001b[38;5;28mlen\u001b[39m(data),\n\u001b[0;32m    309\u001b[0m         )\n\u001b[0;32m    310\u001b[0m     )\n\u001b[0;32m    312\u001b[0m \u001b[38;5;28;01mreturn\u001b[39;00m data\n",
      "\u001b[1;31mInsufficientDataBytes\u001b[0m: Tried to read 32 bytes.  Only got 0 bytes",
      "\nThe above exception was the direct cause of the following exception:\n",
      "\u001b[1;31mBadFunctionCallOutput\u001b[0m                     Traceback (most recent call last)",
      "Cell \u001b[1;32mIn[31], line 1\u001b[0m\n\u001b[1;32m----> 1\u001b[0m \u001b[43mregister_voter\u001b[49m\u001b[43m(\u001b[49m\u001b[43mname\u001b[49m\u001b[38;5;241;43m=\u001b[39;49m\u001b[38;5;124;43m\"\u001b[39;49m\u001b[38;5;124;43mMartha Hutchinson\u001b[39;49m\u001b[38;5;124;43m\"\u001b[39;49m\u001b[43m,\u001b[49m\u001b[43m \u001b[49m\u001b[43mphone\u001b[49m\u001b[38;5;241;43m=\u001b[39;49m\u001b[38;5;124;43m\"\u001b[39;49m\u001b[38;5;124;43m6230384053\u001b[39;49m\u001b[38;5;124;43m\"\u001b[39;49m\u001b[43m,\u001b[49m\u001b[43m \u001b[49m\u001b[43mssn_last4\u001b[49m\u001b[38;5;241;43m=\u001b[39;49m\u001b[38;5;241;43m1533\u001b[39;49m\u001b[43m,\u001b[49m\u001b[43m \u001b[49m\u001b[43memployee_id\u001b[49m\u001b[38;5;241;43m=\u001b[39;49m\u001b[38;5;241;43m6612\u001b[39;49m\u001b[43m)\u001b[49m\n",
      "Cell \u001b[1;32mIn[25], line 21\u001b[0m, in \u001b[0;36mregister_voter\u001b[1;34m(name, phone, ssn_last4, employee_id)\u001b[0m\n\u001b[0;32m     18\u001b[0m     tx_receipt \u001b[38;5;241m=\u001b[39m w3\u001b[38;5;241m.\u001b[39meth\u001b[38;5;241m.\u001b[39mwaitForTransactionReceipt(tx_hash)\n\u001b[0;32m     20\u001b[0m     \u001b[38;5;66;03m# Assume the token ID is the total number of tokens issued so far\u001b[39;00m\n\u001b[1;32m---> 21\u001b[0m     token_id \u001b[38;5;241m=\u001b[39m \u001b[43mcontract\u001b[49m\u001b[38;5;241;43m.\u001b[39;49m\u001b[43mfunctions\u001b[49m\u001b[38;5;241;43m.\u001b[39;49m\u001b[43mtotalTokens\u001b[49m\u001b[43m(\u001b[49m\u001b[43m)\u001b[49m\u001b[38;5;241;43m.\u001b[39;49m\u001b[43mcall\u001b[49m\u001b[43m(\u001b[49m\u001b[43m)\u001b[49m \u001b[38;5;241m-\u001b[39m \u001b[38;5;241m1\u001b[39m\n\u001b[0;32m     23\u001b[0m     \u001b[38;5;28mprint\u001b[39m (token_id)\n\u001b[0;32m     24\u001b[0m \u001b[38;5;28;01melse\u001b[39;00m:\n",
      "File \u001b[1;32m~\\Anaconda3\\envs\\dev\\lib\\site-packages\\web3\\contract.py:954\u001b[0m, in \u001b[0;36mContractFunction.call\u001b[1;34m(self, transaction, block_identifier)\u001b[0m\n\u001b[0;32m    948\u001b[0m         \u001b[38;5;28;01mraise\u001b[39;00m \u001b[38;5;167;01mValueError\u001b[39;00m(\n\u001b[0;32m    949\u001b[0m             \u001b[38;5;124m\"\u001b[39m\u001b[38;5;124mPlease ensure that this contract instance has an address.\u001b[39m\u001b[38;5;124m\"\u001b[39m\n\u001b[0;32m    950\u001b[0m         )\n\u001b[0;32m    952\u001b[0m block_id \u001b[38;5;241m=\u001b[39m parse_block_identifier(\u001b[38;5;28mself\u001b[39m\u001b[38;5;241m.\u001b[39mweb3, block_identifier)\n\u001b[1;32m--> 954\u001b[0m \u001b[38;5;28;01mreturn\u001b[39;00m call_contract_function(\n\u001b[0;32m    955\u001b[0m     \u001b[38;5;28mself\u001b[39m\u001b[38;5;241m.\u001b[39mweb3,\n\u001b[0;32m    956\u001b[0m     \u001b[38;5;28mself\u001b[39m\u001b[38;5;241m.\u001b[39maddress,\n\u001b[0;32m    957\u001b[0m     \u001b[38;5;28mself\u001b[39m\u001b[38;5;241m.\u001b[39m_return_data_normalizers,\n\u001b[0;32m    958\u001b[0m     \u001b[38;5;28mself\u001b[39m\u001b[38;5;241m.\u001b[39mfunction_identifier,\n\u001b[0;32m    959\u001b[0m     call_transaction,\n\u001b[0;32m    960\u001b[0m     block_id,\n\u001b[0;32m    961\u001b[0m     \u001b[38;5;28mself\u001b[39m\u001b[38;5;241m.\u001b[39mcontract_abi,\n\u001b[0;32m    962\u001b[0m     \u001b[38;5;28mself\u001b[39m\u001b[38;5;241m.\u001b[39mabi,\n\u001b[0;32m    963\u001b[0m     \u001b[38;5;241m*\u001b[39m\u001b[38;5;28mself\u001b[39m\u001b[38;5;241m.\u001b[39margs,\n\u001b[0;32m    964\u001b[0m     \u001b[38;5;241m*\u001b[39m\u001b[38;5;241m*\u001b[39m\u001b[38;5;28mself\u001b[39m\u001b[38;5;241m.\u001b[39mkwargs\n\u001b[0;32m    965\u001b[0m )\n",
      "File \u001b[1;32m~\\Anaconda3\\envs\\dev\\lib\\site-packages\\web3\\contract.py:1528\u001b[0m, in \u001b[0;36mcall_contract_function\u001b[1;34m(web3, address, normalizers, function_identifier, transaction, block_id, contract_abi, fn_abi, *args, **kwargs)\u001b[0m\n\u001b[0;32m   1519\u001b[0m     \u001b[38;5;28;01melse\u001b[39;00m:\n\u001b[0;32m   1520\u001b[0m         msg \u001b[38;5;241m=\u001b[39m (\n\u001b[0;32m   1521\u001b[0m             \u001b[38;5;124m\"\u001b[39m\u001b[38;5;124mCould not decode contract function call \u001b[39m\u001b[38;5;132;01m{}\u001b[39;00m\u001b[38;5;124m return data \u001b[39m\u001b[38;5;132;01m{}\u001b[39;00m\u001b[38;5;124m for \u001b[39m\u001b[38;5;124m\"\u001b[39m\n\u001b[0;32m   1522\u001b[0m             \u001b[38;5;124m\"\u001b[39m\u001b[38;5;124moutput_types \u001b[39m\u001b[38;5;132;01m{}\u001b[39;00m\u001b[38;5;124m\"\u001b[39m\u001b[38;5;241m.\u001b[39mformat(\n\u001b[1;32m   (...)\u001b[0m\n\u001b[0;32m   1526\u001b[0m             )\n\u001b[0;32m   1527\u001b[0m         )\n\u001b[1;32m-> 1528\u001b[0m     \u001b[38;5;28;01mraise\u001b[39;00m BadFunctionCallOutput(msg) \u001b[38;5;28;01mfrom\u001b[39;00m \u001b[38;5;21;01me\u001b[39;00m\n\u001b[0;32m   1530\u001b[0m _normalizers \u001b[38;5;241m=\u001b[39m itertools\u001b[38;5;241m.\u001b[39mchain(\n\u001b[0;32m   1531\u001b[0m     BASE_RETURN_NORMALIZERS,\n\u001b[0;32m   1532\u001b[0m     normalizers,\n\u001b[0;32m   1533\u001b[0m )\n\u001b[0;32m   1534\u001b[0m normalized_data \u001b[38;5;241m=\u001b[39m map_abi_data(_normalizers, output_types, output_data)\n",
      "\u001b[1;31mBadFunctionCallOutput\u001b[0m: Could not transact with/call contract function, is contract deployed correctly and chain synced?"
     ]
    }
   ],
   "source": [
    "register_voter(name=\"Martha Hutchinson\", phone=\"6230384053\", ssn_last4=1533, employee_id=6612)"
   ]
  },
  {
   "cell_type": "code",
   "execution_count": null,
   "id": "808c6a08-1e66-40a8-8a5e-147cc92923ac",
   "metadata": {},
   "outputs": [],
   "source": []
  }
 ],
 "metadata": {
  "kernelspec": {
   "display_name": "Python 3 (ipykernel)",
   "language": "python",
   "name": "python3"
  },
  "language_info": {
   "codemirror_mode": {
    "name": "ipython",
    "version": 3
   },
   "file_extension": ".py",
   "mimetype": "text/x-python",
   "name": "python",
   "nbconvert_exporter": "python",
   "pygments_lexer": "ipython3",
   "version": "3.10.13"
  }
 },
 "nbformat": 4,
 "nbformat_minor": 5
}
