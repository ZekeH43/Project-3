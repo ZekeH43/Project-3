{
 "cells": [
  {
   "cell_type": "code",
   "execution_count": 14,
   "id": "231c437f-102f-4d64-b556-c2138731adae",
   "metadata": {},
   "outputs": [],
   "source": [
    "# Load Imports\n",
    "import os\n",
    "import json\n",
    "from web3 import Web3\n",
    "from pathlib import Path\n",
    "from dotenv import load_dotenv\n",
    "import streamlit as st\n",
    "import pandas as pd"
   ]
  },
  {
   "cell_type": "code",
   "execution_count": 15,
   "id": "dcacec11-d9e7-4008-ab63-3f3bc5c27f73",
   "metadata": {},
   "outputs": [],
   "source": [
    "# Load your employee dataset\n",
    "employees = pd.read_csv('fake_employee.csv')\n",
    "# converting from float to int\n",
    "employees['employee_id'] = employees['employee_id'].astype(int)\n",
    "# converting from float to int\n",
    "employees['Last_4_SSN'] = employees['Last_4_SSN'].astype(int)\n",
    " \n",
    "# displaying the datatypes\n",
    "def verify_employee(name, phoneNumber, ssnLast4, employeeId):\n",
    "    return any(\n",
    "        (employees['name'] == name) &\n",
    "        (employees['phone_number'] == phoneNumber) &\n",
    "        (employees['Last_4_SSN'] == ssnLast4) &\n",
    "        (employees['employee_id'] == employeeId)\n",
    "    )"
   ]
  },
  {
   "cell_type": "code",
   "execution_count": 22,
   "id": "c1c40919-0129-475a-a980-41c8864ed2f1",
   "metadata": {},
   "outputs": [
    {
     "data": {
      "text/plain": [
       "True"
      ]
     },
     "execution_count": 22,
     "metadata": {},
     "output_type": "execute_result"
    }
   ],
   "source": [
    "verify_employee(\"Martha Hutchinson\",6230384053,1533,6612)\n",
    "\n"
   ]
  },
  {
   "cell_type": "code",
   "execution_count": 17,
   "id": "68027cf2-b2ce-4197-a585-0db344c8dd68",
   "metadata": {},
   "outputs": [
    {
     "data": {
      "text/plain": [
       "0      True\n",
       "1     False\n",
       "2     False\n",
       "3     False\n",
       "4     False\n",
       "      ...  \n",
       "95    False\n",
       "96    False\n",
       "97    False\n",
       "98    False\n",
       "99    False\n",
       "Name: name, Length: 100, dtype: bool"
      ]
     },
     "execution_count": 17,
     "metadata": {},
     "output_type": "execute_result"
    }
   ],
   "source": [
    "(employees['name'] == \"Martha Hutchinson\")"
   ]
  },
  {
   "cell_type": "code",
   "execution_count": 19,
   "id": "17390275-26b2-4f0f-8194-84aea398ff13",
   "metadata": {},
   "outputs": [
    {
     "data": {
      "text/plain": [
       "0      True\n",
       "1     False\n",
       "2     False\n",
       "3     False\n",
       "4     False\n",
       "      ...  \n",
       "95    False\n",
       "96    False\n",
       "97    False\n",
       "98    False\n",
       "99    False\n",
       "Name: phone_number, Length: 100, dtype: bool"
      ]
     },
     "execution_count": 19,
     "metadata": {},
     "output_type": "execute_result"
    }
   ],
   "source": [
    "(employees['phone_number'] == 6230384053) "
   ]
  },
  {
   "cell_type": "code",
   "execution_count": 20,
   "id": "1d627f2e-dcbf-4edf-8a00-4f6741576d6a",
   "metadata": {},
   "outputs": [
    {
     "data": {
      "text/plain": [
       "0      True\n",
       "1     False\n",
       "2     False\n",
       "3     False\n",
       "4     False\n",
       "      ...  \n",
       "95    False\n",
       "96    False\n",
       "97    False\n",
       "98    False\n",
       "99    False\n",
       "Name: Last_4_SSN, Length: 100, dtype: bool"
      ]
     },
     "execution_count": 20,
     "metadata": {},
     "output_type": "execute_result"
    }
   ],
   "source": [
    "(employees['Last_4_SSN']== 1533)"
   ]
  },
  {
   "cell_type": "code",
   "execution_count": 7,
   "id": "3405c0d8-8179-41d5-8c5e-6ba383c2437f",
   "metadata": {},
   "outputs": [
    {
     "data": {
      "text/plain": [
       "'0      1533.0\\n1      4697.0\\n2      1235.0\\n3      6215.0\\n4      4681.0\\n        ...  \\n353       NaN\\n354       NaN\\n355       NaN\\n356       NaN\\n357       NaN\\nName: Last_4_SSN, Length: 358, dtype: object'"
      ]
     },
     "execution_count": 7,
     "metadata": {},
     "output_type": "execute_result"
    }
   ],
   "source": [
    "(str(employees['Last_4_SSN']))"
   ]
  },
  {
   "cell_type": "code",
   "execution_count": 21,
   "id": "0b61afdd-dc8c-478f-98d0-409b7e064b00",
   "metadata": {},
   "outputs": [
    {
     "data": {
      "text/html": [
       "<div>\n",
       "<style scoped>\n",
       "    .dataframe tbody tr th:only-of-type {\n",
       "        vertical-align: middle;\n",
       "    }\n",
       "\n",
       "    .dataframe tbody tr th {\n",
       "        vertical-align: top;\n",
       "    }\n",
       "\n",
       "    .dataframe thead th {\n",
       "        text-align: right;\n",
       "    }\n",
       "</style>\n",
       "<table border=\"1\" class=\"dataframe\">\n",
       "  <thead>\n",
       "    <tr style=\"text-align: right;\">\n",
       "      <th></th>\n",
       "      <th>Unnamed: 0</th>\n",
       "      <th>employee_id</th>\n",
       "      <th>name</th>\n",
       "      <th>dates_of_birth</th>\n",
       "      <th>phone_number</th>\n",
       "      <th>Last_4_SSN</th>\n",
       "    </tr>\n",
       "  </thead>\n",
       "  <tbody>\n",
       "    <tr>\n",
       "      <th>0</th>\n",
       "      <td>0</td>\n",
       "      <td>6612</td>\n",
       "      <td>Martha Hutchinson</td>\n",
       "      <td>11/14/1970</td>\n",
       "      <td>6230384053</td>\n",
       "      <td>1533</td>\n",
       "    </tr>\n",
       "    <tr>\n",
       "      <th>1</th>\n",
       "      <td>1</td>\n",
       "      <td>4793</td>\n",
       "      <td>Meghan Cervantes</td>\n",
       "      <td>8/20/1992</td>\n",
       "      <td>7208193673</td>\n",
       "      <td>4697</td>\n",
       "    </tr>\n",
       "    <tr>\n",
       "      <th>2</th>\n",
       "      <td>2</td>\n",
       "      <td>8832</td>\n",
       "      <td>April Hanna</td>\n",
       "      <td>4/17/1986</td>\n",
       "      <td>4807207696</td>\n",
       "      <td>1235</td>\n",
       "    </tr>\n",
       "    <tr>\n",
       "      <th>3</th>\n",
       "      <td>3</td>\n",
       "      <td>7044</td>\n",
       "      <td>George Yang</td>\n",
       "      <td>3/15/2001</td>\n",
       "      <td>4804826262</td>\n",
       "      <td>6215</td>\n",
       "    </tr>\n",
       "    <tr>\n",
       "      <th>4</th>\n",
       "      <td>4</td>\n",
       "      <td>4498</td>\n",
       "      <td>Joseph Patrick</td>\n",
       "      <td>10/9/1998</td>\n",
       "      <td>7204132278</td>\n",
       "      <td>4681</td>\n",
       "    </tr>\n",
       "    <tr>\n",
       "      <th>...</th>\n",
       "      <td>...</td>\n",
       "      <td>...</td>\n",
       "      <td>...</td>\n",
       "      <td>...</td>\n",
       "      <td>...</td>\n",
       "      <td>...</td>\n",
       "    </tr>\n",
       "    <tr>\n",
       "      <th>95</th>\n",
       "      <td>95</td>\n",
       "      <td>5347</td>\n",
       "      <td>Amy Alvarez</td>\n",
       "      <td>3/30/1979</td>\n",
       "      <td>7208665284</td>\n",
       "      <td>7498</td>\n",
       "    </tr>\n",
       "    <tr>\n",
       "      <th>96</th>\n",
       "      <td>96</td>\n",
       "      <td>1985</td>\n",
       "      <td>Robert Powers</td>\n",
       "      <td>2/26/1965</td>\n",
       "      <td>7209484637</td>\n",
       "      <td>7489</td>\n",
       "    </tr>\n",
       "    <tr>\n",
       "      <th>97</th>\n",
       "      <td>97</td>\n",
       "      <td>8202</td>\n",
       "      <td>Kenneth Hernandez</td>\n",
       "      <td>3/6/1968</td>\n",
       "      <td>7207337043</td>\n",
       "      <td>7695</td>\n",
       "    </tr>\n",
       "    <tr>\n",
       "      <th>98</th>\n",
       "      <td>98</td>\n",
       "      <td>8672</td>\n",
       "      <td>Brian King</td>\n",
       "      <td>1/28/1970</td>\n",
       "      <td>6236579804</td>\n",
       "      <td>5602</td>\n",
       "    </tr>\n",
       "    <tr>\n",
       "      <th>99</th>\n",
       "      <td>99</td>\n",
       "      <td>8304</td>\n",
       "      <td>Joshua Duncan</td>\n",
       "      <td>2/22/1995</td>\n",
       "      <td>6235789001</td>\n",
       "      <td>8563</td>\n",
       "    </tr>\n",
       "  </tbody>\n",
       "</table>\n",
       "<p>100 rows × 6 columns</p>\n",
       "</div>"
      ],
      "text/plain": [
       "    Unnamed: 0  employee_id               name dates_of_birth  phone_number  \\\n",
       "0            0         6612  Martha Hutchinson     11/14/1970    6230384053   \n",
       "1            1         4793   Meghan Cervantes      8/20/1992    7208193673   \n",
       "2            2         8832        April Hanna      4/17/1986    4807207696   \n",
       "3            3         7044        George Yang      3/15/2001    4804826262   \n",
       "4            4         4498     Joseph Patrick      10/9/1998    7204132278   \n",
       "..         ...          ...                ...            ...           ...   \n",
       "95          95         5347        Amy Alvarez      3/30/1979    7208665284   \n",
       "96          96         1985      Robert Powers      2/26/1965    7209484637   \n",
       "97          97         8202  Kenneth Hernandez       3/6/1968    7207337043   \n",
       "98          98         8672         Brian King      1/28/1970    6236579804   \n",
       "99          99         8304      Joshua Duncan      2/22/1995    6235789001   \n",
       "\n",
       "    Last_4_SSN  \n",
       "0         1533  \n",
       "1         4697  \n",
       "2         1235  \n",
       "3         6215  \n",
       "4         4681  \n",
       "..         ...  \n",
       "95        7498  \n",
       "96        7489  \n",
       "97        7695  \n",
       "98        5602  \n",
       "99        8563  \n",
       "\n",
       "[100 rows x 6 columns]"
      ]
     },
     "execution_count": 21,
     "metadata": {},
     "output_type": "execute_result"
    }
   ],
   "source": [
    "employees"
   ]
  },
  {
   "cell_type": "code",
   "execution_count": 9,
   "id": "ab348564-c47a-4fd3-8028-a7d7574424c2",
   "metadata": {},
   "outputs": [
    {
     "name": "stdout",
     "output_type": "stream",
     "text": [
      "Unnamed: 0        float64\n",
      "employee_id        object\n",
      "name               object\n",
      "dates_of_birth     object\n",
      "phone_number       object\n",
      "Last_4_SSN         object\n",
      "dtype: object\n"
     ]
    }
   ],
   "source": [
    "print (employees.dtypes)"
   ]
  },
  {
   "cell_type": "code",
   "execution_count": 10,
   "id": "7382a10d-95b8-46d3-b25f-46fcafbd107c",
   "metadata": {},
   "outputs": [
    {
     "data": {
      "text/plain": [
       "Unnamed: 0        float64\n",
       "employee_id        object\n",
       "name               object\n",
       "dates_of_birth     object\n",
       "phone_number       object\n",
       "Last_4_SSN         object\n",
       "dtype: object"
      ]
     },
     "metadata": {},
     "output_type": "display_data"
    }
   ],
   "source": [
    "# displaying the datatypes\n",
    "display(employees.dtypes)"
   ]
  },
  {
   "cell_type": "code",
   "execution_count": 11,
   "id": "f1e1855b-d3b6-469c-b3af-76e6f837c007",
   "metadata": {},
   "outputs": [
    {
     "data": {
      "text/plain": [
       "Unnamed: 0        float64\n",
       "employee_id        object\n",
       "name               object\n",
       "dates_of_birth     object\n",
       "phone_number       object\n",
       "Last_4_SSN         object\n",
       "dtype: object"
      ]
     },
     "metadata": {},
     "output_type": "display_data"
    }
   ],
   "source": [
    "# converting from float to int\n",
    "employees['employee_id'] = employees['employee_id'].astype(object)\n",
    " \n",
    "# displaying the datatypes\n",
    "display(employees.dtypes)"
   ]
  },
  {
   "cell_type": "code",
   "execution_count": 12,
   "id": "372b920e-5b45-4187-8d17-ff4abb3c77ee",
   "metadata": {},
   "outputs": [
    {
     "data": {
      "text/plain": [
       "Unnamed: 0        float64\n",
       "employee_id        object\n",
       "name               object\n",
       "dates_of_birth     object\n",
       "phone_number       object\n",
       "Last_4_SSN         object\n",
       "dtype: object"
      ]
     },
     "metadata": {},
     "output_type": "display_data"
    }
   ],
   "source": [
    "# converting from float to int\n",
    "employees['Last_4_SSN'] = employees['Last_4_SSN'].astype(object)\n",
    " \n",
    "# displaying the datatypes\n",
    "display(employees.dtypes)"
   ]
  },
  {
   "cell_type": "code",
   "execution_count": null,
   "id": "46a1390d-2068-4ce7-97de-c04f3b01518f",
   "metadata": {},
   "outputs": [],
   "source": []
  }
 ],
 "metadata": {
  "kernelspec": {
   "display_name": "Python 3 (ipykernel)",
   "language": "python",
   "name": "python3"
  },
  "language_info": {
   "codemirror_mode": {
    "name": "ipython",
    "version": 3
   },
   "file_extension": ".py",
   "mimetype": "text/x-python",
   "name": "python",
   "nbconvert_exporter": "python",
   "pygments_lexer": "ipython3",
   "version": "3.10.13"
  }
 },
 "nbformat": 4,
 "nbformat_minor": 5
}
